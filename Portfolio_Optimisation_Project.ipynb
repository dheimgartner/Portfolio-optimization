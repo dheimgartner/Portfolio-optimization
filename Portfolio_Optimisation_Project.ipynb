{
 "cells": [
  {
   "cell_type": "markdown",
   "metadata": {},
   "source": [
    "# Optimal portfolio weights\n"
   ]
  },
  {
   "cell_type": "markdown",
   "metadata": {},
   "source": [
    "##  1 Financial data collection\n",
    "\n",
    "This first part of the script collects the financial data from the web. The user can choose the time frame, the number of stocks to be included, and how to handle missing values.\n",
    "\n",
    "As yahoo finance and google finance closed their API we use Quandl, they have a database containing detailed info for over 3000 US securities"
   ]
  },
  {
   "cell_type": "code",
   "execution_count": null,
   "metadata": {},
   "outputs": [],
   "source": [
    "# if you have not done so yet you will need to install quandl in the Anaconda prompt with the command \"anaconda install quandl\"\n",
    "import quandl\n",
    "import pandas as pd\n",
    "\n",
    "# This is a simple function for a Yes or no question, taken from https://gist.github.com/garrettdreyfus/8153571\n",
    "def yes_or_no(question):\n",
    "    reply = str(input(question+' (y/n): ')).lower().strip()\n",
    "    if reply[0] == 'y':\n",
    "        return True\n",
    "    if reply[0] == 'n':\n",
    "        return False\n",
    "    else:\n",
    "        return yes_or_no(\"Uhhhh... please enter y/n\")\n",
    "\n",
    "\n",
    "def get_dates():\n",
    "    # get user input for timeframe, it shoould be a string in format \"YYYY-MM-DD\"\n",
    "    # example input: start = \"2010-05-01\" end = \"2010-07-20\"\n",
    "    start  = input(\"Please enter your desired start date in the format: YYYY-MM-DD\")\n",
    "    end = input(\"Please enter your desired end date in the format: YYYY-MM-DD\")\n",
    "    return start, end\n",
    "\n",
    "\n",
    "# function for getting the tickers\n",
    "def get_ticker():\n",
    "   \n",
    "    # get userinput for amount of stocks they want\n",
    "    n = int(input(\" Please enter the amount of stocks you want to consider for your portfolio\"))\n",
    "    \n",
    "    # create an empty list for the tickeres and then let the user enter the tickers, QUANDL only works with US-tickers\n",
    "    # example inputs: tickers = ['AAPL', 'MSFT', 'WMT', \"NKE\"]\n",
    "    \n",
    "    tickers = [] \n",
    "\n",
    "    for i in range(0,n):\n",
    "        tickers.append(input(\"Please Enter the Ticker/Symbol of stock number %i you are considering for your portfolio\" % (i+1)))\n",
    "    \n",
    "    return n,tickers\n",
    "\n",
    "# code from https://medium.com/python-data/quandl-getting-end-of-day-stock-data-with-python-8652671d6661\n",
    "# get the table for daily stock prices and, filter the table for selected tickers, columns within a time range\n",
    "# set paginate to True because Quandl limits tables API to 10,000 rows per call\n",
    "\n",
    "def get_data(start, end, tickers):\n",
    "    \n",
    "    # using private API key\n",
    "    quandl.ApiConfig.api_key = \"FKSeudzRmxRVMU56b9MN\"\n",
    "    \n",
    "    data = quandl.get_table(\"WIKI/PRICES\", ticker = tickers, \n",
    "                        qopts = { \"columns\": [\"ticker\", \"date\", \"adj_close\"] }, \n",
    "                        date = { \"gte\": start, \"lte\": end }, \n",
    "                        paginate=True)\n",
    "\n",
    "# create a new dataframe with \"date\" as index and use pivot to sort by tickers\n",
    "    new = data.set_index(\"date\")\n",
    "    df = new.pivot(columns=\"ticker\")\n",
    "    return df\n",
    "\n",
    "# calling the previously defined functions\n",
    "start, end = get_dates()\n",
    "n, tickers = get_ticker()\n",
    "df=pd.DataFrame(get_data(start, end, tickers))\n",
    "\n",
    "\n",
    "# The following while loop ensures that there is data of the proper length for all stocks, it is seperated into two parts:\n",
    "\n",
    "while len(df.columns) != n or df.isnull().values.any() == True:\n",
    "    \n",
    "    # Part A  is to check whether all the Tickers were actually found as the quandl.get_table function simply omits unfound stocks\n",
    "    #without an error message, user will be prompted to proceed with the ones that were found or to change his input, it will keep\n",
    "    #asking until all the desired Tickers that can be found are in the dataframe.\n",
    "    if len(df.columns) != n:\n",
    "        print(\"Unfortunately only the following strings could be found:\" + str(list(df)))\n",
    "    \n",
    "        if yes_or_no(\"Do you want to proceed anyways?\") == False:\n",
    "        \n",
    "            n, tickers= get_ticker()\n",
    "            df= pd.DataFrame(get_data(start, end, tickers))\n",
    "        \n",
    "        else:\n",
    "        \n",
    "            n= len(df.columns)\n",
    "            \n",
    "    # Part B makes sure all the samples are of equal length, this is crucial for the Cov-Matrix\n",
    "    # There are three options: 1. drop the stocks (columns) with NaN values automatically  \n",
    "    # 2. drop the dates (rows) with NaN values automatically 3. Reenter parameters manually\n",
    "    # Note that if for stock x there is not a single observation, there will be no column for it(->part A)\n",
    "    if df.isnull().values.any() == True:\n",
    "        print(\"There seems to be data missing for the stock where it says true.\")\n",
    "        print(df.isnull().any())\n",
    "    \n",
    "        if yes_or_no(\"Do you want to drop these stocks?\") == True:\n",
    "            df= df.loc[:,df.isnull().any()==False]\n",
    "            n= len(df.columns)\n",
    "            \n",
    "        elif yes_or_no(\"Do you want to have the duration of the shortened automatically?\") == True:\n",
    "            df = df.dropna(how=\"any\")\n",
    "            \n",
    "        else:\n",
    "            print(\"Please reenter the dates and the tickers\")\n",
    "            start, end = get_dates()\n",
    "            n, tickers= get_ticker()\n",
    "            df= pd.DataFrame(get_data(start, end, tickers))\n",
    "            \n",
    "# at this point there is a dataframe \"df\" with the daily prices and also the variable \"n\" = the amount of stocks in df\n",
    "# all columns have the same amount of observations\n",
    "# We do not have the risk free rate at this in case we actually want to get the tangency portfolio\n",
    "\n",
    "print(n)        \n",
    "df.head()"
   ]
  },
  {
   "cell_type": "markdown",
   "metadata": {},
   "source": [
    "## 2 Mean-variance analysis"
   ]
  },
  {
   "cell_type": "markdown",
   "metadata": {},
   "source": [
    "### 2.1 Mean returns and covariance\n",
    "\n",
    "This part begins a mean-variance analysis of the user’s chosen stocks by computing the mean returns and the covariance matrix."
   ]
  },
  {
   "cell_type": "code",
   "execution_count": 2,
   "metadata": {},
   "outputs": [],
   "source": [
    "import numpy as np\n",
    "import matplotlib.pyplot as plt\n",
    "\n",
    "# Convert closing prices to daily net returns\n",
    "daily_net_return = df.pct_change(1)\n",
    "daily_net_return = daily_net_return.iloc[1:]\n",
    "\n",
    "# Compute mean returns and the covariance matrix\n",
    "mean_returns = daily_net_return.mean()\n",
    "cov_matrix = daily_net_return.cov()"
   ]
  },
  {
   "cell_type": "markdown",
   "metadata": {},
   "source": [
    "### 2.2 Portfolio options (graphical representation) and Monte Carlo simulation\n",
    "\n",
    "This first graphical representation gives an insight into the different portfolio options. Different levels of annual net returns (on the y-axes) are set for given level of risk (the standard deviation on the x-axes) and coloured by the different levels of average return earned in excess of the risk-free rate per unit of volatility (namely by the Sharpe Ratio). We are interested in the portfolio, that lies on the variance frontier and has the smallest risk, thus the smallest standard deviation. This part also starts constructing the minimum variance portfolio with the Monte Carlo simulation, which is used to include the impact of uncertainty in its prediction.\n",
    "\n"
   ]
  },
  {
   "cell_type": "code",
   "execution_count": 3,
   "metadata": {},
   "outputs": [
    {
     "data": {
      "text/plain": [
       "<function matplotlib.pyplot.show(*args, **kw)>"
      ]
     },
     "execution_count": 3,
     "metadata": {},
     "output_type": "execute_result"
    },
    {
     "data": {
      "image/png": "[encoded data removed]",
      "text/plain": [
       "<Figure size 432x288 with 2 Axes>"
      ]
     },
     "metadata": {},
     "output_type": "display_data"
    }
   ],
   "source": [
    "# Source: http://www.pythonforfinance.net/2017/01/21/investment-portfolio-optimisation-with-python/\n",
    "\n",
    "# set number of runs of random portfolio weights\n",
    "num_portfolios = 25000\n",
    " \n",
    "# set up array to hold results\n",
    "results = np.zeros((3,num_portfolios))\n",
    " \n",
    "for i in range(num_portfolios):\n",
    "    # select random weights for portfolio holdings\n",
    "    weights = np.random.random(n)\n",
    "    # rebalance weights to sum to 1\n",
    "    weights /= np.sum(weights)\n",
    "    \n",
    "    # calculate portfolio annualized return and volatility\n",
    "    portfolio_return = np.sum(mean_returns * weights) * 252\n",
    "    portfolio_std_dev = np.sqrt(np.dot(weights.T,np.dot(cov_matrix, weights))) * np.sqrt(252)\n",
    "    \n",
    "    # store results in results array\n",
    "    results[0,i] = portfolio_return\n",
    "    results[1,i] = portfolio_std_dev\n",
    "    # store Sharpe Ratio (return / volatility)\n",
    "    results[2,i] = results[0,i] / results[1,i]\n",
    "\n",
    "# convert results array to Pandas DataFrame\n",
    "results_frame = pd.DataFrame(results.T,columns=['ret','stdev','sharpe'])\n",
    " \n",
    "# create scatter plot coloured by Sharpe Ratio\n",
    "plt.style.use('seaborn-whitegrid')\n",
    "plt.scatter(results_frame.stdev,results_frame.ret,c=results_frame.sharpe,marker='.',cmap='GnBu')\n",
    "plt.colorbar().set_label('Sharpe ratio')\n",
    "plt.xlabel('Standard deviation')\n",
    "plt.ylabel('Annualized net returns')\n",
    "plt.show"
   ]
  },
  {
   "cell_type": "markdown",
   "metadata": {},
   "source": [
    "### 2.3 Minimum variance portfolio\n",
    "\n",
    "In this part the minimum variance portfolio, namely the portfolio with the least risks, is calculated by using a minimization problem in order to get the optimal weights of the user's selected stocks."
   ]
  },
  {
   "cell_type": "code",
   "execution_count": 4,
   "metadata": {},
   "outputs": [],
   "source": [
    "# We have already \"constructed\" the minimum variance portfolio above\n",
    "min_vol_port = results_frame.iloc[results_frame['stdev'].idxmin()]\n",
    "\n",
    "# Calculate minimum variance portfolio\n",
    "# Source: https://towardsdatascience.com/efficient-frontier-portfolio-optimisation-in-python-e7844051e7f\n",
    "\n",
    "import scipy.optimize as sco\n",
    "\n",
    "def portfolio_annualised_performance(weights, mean_returns, cov_matrix): # callable function for sco.minimize\n",
    "    returns = np.sum(mean_returns*weights ) *252\n",
    "    std = np.sqrt(np.dot(weights.T, np.dot(cov_matrix, weights))) * np.sqrt(252)\n",
    "    return std, returns\n",
    "\n",
    "def portfolio_volatility(weights, mean_returns, cov_matrix): # callable function for sco.minimize\n",
    "    return portfolio_annualised_performance(weights, mean_returns, cov_matrix)[0]\n",
    "\n",
    "def min_variance(mean_returns, cov_matrix):\n",
    "    num_assets = n\n",
    "    args = (mean_returns, cov_matrix)\n",
    "    constraints = ({'type': 'eq', 'fun': lambda x: np.sum(x) - 1})\n",
    "    bound = (0.0,1.0)\n",
    "    bounds = tuple(bound for asset in range(num_assets))\n",
    "    \n",
    "    result = sco.minimize(portfolio_volatility, num_assets*[1./num_assets,], args=args,\n",
    "                        method='SLSQP', bounds=bounds, constraints=constraints)\n",
    "\n",
    "    return result\n",
    "\n",
    "optimal_weights = min_variance(mean_returns, cov_matrix)['x']"
   ]
  },
  {
   "cell_type": "markdown",
   "metadata": {},
   "source": [
    "### 2.4 Historical portfolio returns (graphical representation)\n",
    "\n",
    "This part creates a graph representing the historical returns of the portfolio over the same time frame selected by the user. Furthermore, the optimization routine is compared to the Monte Carlo solution."
   ]
  },
  {
   "cell_type": "code",
   "execution_count": 5,
   "metadata": {},
   "outputs": [
    {
     "name": "stdout",
     "output_type": "stream",
     "text": [
      "monte carlo:\n",
      "ret       0.074337\n",
      "stdev     0.145477\n",
      "sharpe    0.510987\n",
      "Name: 8434, dtype: float64\n",
      "optimization:\n",
      "0.07455631840823572 0.14547627830572082\n"
     ]
    },
    {
     "data": {
      "image/png": "[encoded data removed]",
      "text/plain": [
       "<Figure size 432x288 with 1 Axes>"
      ]
     },
     "metadata": {},
     "output_type": "display_data"
    }
   ],
   "source": [
    "# Compute historical returns of the portfolio\n",
    "def port_ret(optimal_weights, daily_net_return):\n",
    "    port_ret = daily_net_return.mul(optimal_weights, axis=1).sum(axis=1)\n",
    "    return port_ret\n",
    "\n",
    "portfolio_return = port_ret(optimal_weights, daily_net_return)\n",
    "cumulative_returns = ((1+portfolio_return).cumprod())\n",
    "cumulative_returns.plot(color='c')\n",
    "\n",
    "# Compare the optimization routine to the monte carlo solution\n",
    "print('monte carlo:')\n",
    "print(min_vol_port)\n",
    "print('optimization:')\n",
    "print(portfolio_return.mean()*252, portfolio_return.std()*np.sqrt(252)) # annualized"
   ]
  },
  {
   "cell_type": "markdown",
   "metadata": {},
   "source": [
    "### 2.5 Cumulative portfolio resturns vs. Market Index (graphical representation)\n",
    "\n",
    "This part plots a graph representing the historical cumulative returns of the portfolio compared to performance of the NASDAQ/NDX Index, whose data is collected from the web. This comparison is possible only for time range starting on 22th January 2003, since previous data are not available."
   ]
  },
  {
   "cell_type": "code",
   "execution_count": 6,
   "metadata": {},
   "outputs": [
    {
     "data": {
      "text/plain": [
       "<matplotlib.legend.Legend at 0x101e1fe048>"
      ]
     },
     "execution_count": 6,
     "metadata": {},
     "output_type": "execute_result"
    },
    {
     "data": {
      "image/png": "[encoded data removed]",
      "text/plain": [
       "<Figure size 432x288 with 1 Axes>"
      ]
     },
     "metadata": {},
     "output_type": "display_data"
    }
   ],
   "source": [
    "if end < \"2003-01-22\":\n",
    "    print(\"This comparison is not available for your chosen time window\")\n",
    "\n",
    "# Get Market Index\n",
    "market = quandl.get(\"NASDAQOMX/NDX\", start_date=portfolio_return.index[0], end_date=portfolio_return.index[-1])[\"Index Value\"]\n",
    "daily_net_market = market.pct_change(1)\n",
    "net_market = daily_net_market.iloc[1:]\n",
    "cumulative_market = ((1+net_market).cumprod())\n",
    "\n",
    "# As we can only get overall market data from 2003-01-22 we shorten the user's time window\n",
    "portfolio_return2 = port_ret(optimal_weights, daily_net_return[\"2003-01-22\":])\n",
    "\n",
    "cumulative_returns2 = ((1+portfolio_return2).cumprod())\n",
    "\n",
    "cumulative_returns2.plot(color='c',label='Portfolio')\n",
    "cumulative_market.plot(label='Index')\n",
    "plt.legend()"
   ]
  },
  {
   "cell_type": "markdown",
   "metadata": {},
   "source": [
    "## 3 Risk measure\n"
   ]
  },
  {
   "cell_type": "markdown",
   "metadata": {},
   "source": [
    "### 3.2 Value at Risk (graphical representation)\n",
    "\n",
    "This part computes the statistical Value-at-risk (VaR), which measures the riskiness of the portfolio and plots an histogram of the distribution of the portfolio returns. It shows the maximum amount expected to be lost at the pre-defined confidence level of 95%."
   ]
  },
  {
   "cell_type": "code",
   "execution_count": 7,
   "metadata": {
    "scrolled": true
   },
   "outputs": [
    {
     "name": "stderr",
     "output_type": "stream",
     "text": [
      "/Users/laraschoni/anaconda3/lib/python3.7/site-packages/matplotlib/axes/_axes.py:6571: UserWarning: The 'normed' kwarg is deprecated, and has been replaced by the 'density' kwarg.\n",
      "  warnings.warn(\"The 'normed' kwarg is deprecated, and has been \"\n"
     ]
    },
    {
     "data": {
      "image/png": "[encoded data removed]",
      "text/plain": [
       "<Figure size 432x288 with 1 Axes>"
      ]
     },
     "metadata": {},
     "output_type": "display_data"
    },
    {
     "name": "stdout",
     "output_type": "stream",
     "text": [
      "99.99% Confident the actual loss will not exceed:  -2.51%\n",
      "99% Confident the actual loss will not exceed: -2.22%\n",
      "95% Confident the actual loss will not exceed: -1.51%\n",
      "Losses expected to exceed -1.51% 13 out of 251 days\n"
     ]
    }
   ],
   "source": [
    "# Source: https://programmingforfinance.com/2017/12/historical-value-at-risk-with-python/\n",
    "# Sort Returns in Ascending Order\n",
    "sorted_rets = sorted(portfolio_return)\n",
    "    \n",
    "varg = np.percentile(sorted_rets, 5)\n",
    "    \n",
    "# Output histogram\n",
    "plt.hist(sorted_rets,50,normed=True)\n",
    "plt.xlabel('Returns')\n",
    "plt.ylabel('Frequency')\n",
    "plt.title(r'Histogram of Portfolio Returns', fontsize=18, fontweight='bold')\n",
    "plt.axvline(x=varg, color='r', linestyle='--', label='95% Confidence VaR: ' + \"{0:.2f}%\".format(varg * 100))\n",
    "plt.legend(loc='upper right', fontsize = 'x-small')\n",
    "plt.show()  \n",
    "    \n",
    "# VaR stats\n",
    "print(\"99.99% Confident the actual loss will not exceed: \" , \"{0:.2f}%\".format(np.percentile(sorted_rets, .01) * 100))\n",
    "print(\"99% Confident the actual loss will not exceed: \" + \"{0:.2f}%\".format(np.percentile(sorted_rets, 1) * 100))\n",
    "print(\"95% Confident the actual loss will not exceed: \" + \"{0:.2f}%\".format(np.percentile(sorted_rets, 5) * 100))\n",
    "\n",
    "print(\"Losses expected to exceed \" + \"{0:.2f}%\".format(np.percentile(sorted_rets, 5) * 100) + \" \" + str(round(.05*len(portfolio_return))) + \" out of \" + str(len(portfolio_return)) + \" days\")"
   ]
  },
  {
   "cell_type": "code",
   "execution_count": null,
   "metadata": {},
   "outputs": [],
   "source": []
  },
  {
   "cell_type": "code",
   "execution_count": null,
   "metadata": {},
   "outputs": [],
   "source": []
  },
  {
   "cell_type": "code",
   "execution_count": null,
   "metadata": {},
   "outputs": [],
   "source": []
  },
  {
   "cell_type": "code",
   "execution_count": null,
   "metadata": {},
   "outputs": [],
   "source": []
  },
  {
   "cell_type": "code",
   "execution_count": null,
   "metadata": {},
   "outputs": [],
   "source": []
  },
  {
   "cell_type": "code",
   "execution_count": null,
   "metadata": {},
   "outputs": [],
   "source": []
  },
  {
   "cell_type": "code",
   "execution_count": null,
   "metadata": {},
   "outputs": [],
   "source": []
  },
  {
   "cell_type": "code",
   "execution_count": null,
   "metadata": {},
   "outputs": [],
   "source": []
  },
  {
   "cell_type": "code",
   "execution_count": null,
   "metadata": {},
   "outputs": [],
   "source": []
  },
  {
   "cell_type": "code",
   "execution_count": null,
   "metadata": {},
   "outputs": [],
   "source": []
  },
  {
   "cell_type": "code",
   "execution_count": null,
   "metadata": {},
   "outputs": [],
   "source": []
  },
  {
   "cell_type": "code",
   "execution_count": null,
   "metadata": {},
   "outputs": [],
   "source": []
  },
  {
   "cell_type": "code",
   "execution_count": null,
   "metadata": {},
   "outputs": [],
   "source": []
  },
  {
   "cell_type": "code",
   "execution_count": null,
   "metadata": {},
   "outputs": [],
   "source": []
  },
  {
   "cell_type": "code",
   "execution_count": null,
   "metadata": {},
   "outputs": [],
   "source": []
  },
  {
   "cell_type": "code",
   "execution_count": null,
   "metadata": {},
   "outputs": [],
   "source": []
  },
  {
   "cell_type": "code",
   "execution_count": null,
   "metadata": {},
   "outputs": [],
   "source": []
  },
  {
   "cell_type": "code",
   "execution_count": null,
   "metadata": {},
   "outputs": [],
   "source": []
  },
  {
   "cell_type": "code",
   "execution_count": null,
   "metadata": {},
   "outputs": [],
   "source": []
  },
  {
   "cell_type": "code",
   "execution_count": null,
   "metadata": {},
   "outputs": [],
   "source": []
  },
  {
   "cell_type": "code",
   "execution_count": null,
   "metadata": {},
   "outputs": [],
   "source": []
  },
  {
   "cell_type": "code",
   "execution_count": null,
   "metadata": {},
   "outputs": [],
   "source": []
  },
  {
   "cell_type": "code",
   "execution_count": null,
   "metadata": {},
   "outputs": [],
   "source": []
  },
  {
   "cell_type": "code",
   "execution_count": null,
   "metadata": {},
   "outputs": [],
   "source": []
  },
  {
   "cell_type": "code",
   "execution_count": null,
   "metadata": {},
   "outputs": [],
   "source": []
  },
  {
   "cell_type": "code",
   "execution_count": null,
   "metadata": {},
   "outputs": [],
   "source": []
  },
  {
   "cell_type": "code",
   "execution_count": null,
   "metadata": {},
   "outputs": [],
   "source": []
  },
  {
   "cell_type": "code",
   "execution_count": null,
   "metadata": {},
   "outputs": [],
   "source": []
  },
  {
   "cell_type": "code",
   "execution_count": null,
   "metadata": {},
   "outputs": [],
   "source": []
  },
  {
   "cell_type": "code",
   "execution_count": null,
   "metadata": {},
   "outputs": [],
   "source": []
  },
  {
   "cell_type": "code",
   "execution_count": null,
   "metadata": {},
   "outputs": [],
   "source": []
  },
  {
   "cell_type": "code",
   "execution_count": null,
   "metadata": {},
   "outputs": [],
   "source": []
  },
  {
   "cell_type": "code",
   "execution_count": null,
   "metadata": {},
   "outputs": [],
   "source": []
  },
  {
   "cell_type": "code",
   "execution_count": null,
   "metadata": {},
   "outputs": [],
   "source": []
  },
  {
   "cell_type": "code",
   "execution_count": null,
   "metadata": {},
   "outputs": [],
   "source": []
  },
  {
   "cell_type": "code",
   "execution_count": null,
   "metadata": {},
   "outputs": [],
   "source": []
  },
  {
   "cell_type": "code",
   "execution_count": null,
   "metadata": {},
   "outputs": [],
   "source": []
  },
  {
   "cell_type": "code",
   "execution_count": null,
   "metadata": {},
   "outputs": [],
   "source": []
  },
  {
   "cell_type": "code",
   "execution_count": null,
   "metadata": {},
   "outputs": [],
   "source": []
  },
  {
   "cell_type": "code",
   "execution_count": null,
   "metadata": {},
   "outputs": [],
   "source": []
  },
  {
   "cell_type": "code",
   "execution_count": null,
   "metadata": {},
   "outputs": [],
   "source": []
  },
  {
   "cell_type": "code",
   "execution_count": null,
   "metadata": {},
   "outputs": [],
   "source": []
  },
  {
   "cell_type": "code",
   "execution_count": null,
   "metadata": {},
   "outputs": [],
   "source": []
  },
  {
   "cell_type": "code",
   "execution_count": null,
   "metadata": {},
   "outputs": [],
   "source": []
  },
  {
   "cell_type": "code",
   "execution_count": null,
   "metadata": {},
   "outputs": [],
   "source": []
  },
  {
   "cell_type": "code",
   "execution_count": null,
   "metadata": {},
   "outputs": [],
   "source": []
  },
  {
   "cell_type": "code",
   "execution_count": null,
   "metadata": {},
   "outputs": [],
   "source": []
  },
  {
   "cell_type": "code",
   "execution_count": null,
   "metadata": {},
   "outputs": [],
   "source": []
  },
  {
   "cell_type": "code",
   "execution_count": null,
   "metadata": {},
   "outputs": [],
   "source": []
  },
  {
   "cell_type": "code",
   "execution_count": null,
   "metadata": {},
   "outputs": [],
   "source": []
  }
 ],
 "metadata": {
  "kernelspec": {
   "display_name": "Python 3",
   "language": "python",
   "name": "python3"
  },
  "language_info": {
   "codemirror_mode": {
    "name": "ipython",
    "version": 3
   },
   "file_extension": ".py",
   "mimetype": "text/x-python",
   "name": "python",
   "nbconvert_exporter": "python",
   "pygments_lexer": "ipython3",
   "version": "3.7.0"
  }
 },
 "nbformat": 4,
 "nbformat_minor": 2
}
